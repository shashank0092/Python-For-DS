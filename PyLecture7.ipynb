{
 "cells": [
  {
   "cell_type": "code",
   "execution_count": 1,
   "metadata": {},
   "outputs": [],
   "source": [
    "class SHUKLA:\n",
    "    def __init__(self):\n",
    "        self.name=\"\"\n",
    "        self.age=0\n",
    "        \n",
    "    def setName(self,name):\n",
    "        self.name=name\n",
    "        \n",
    "    def getName(self):\n",
    "        return self.name\n",
    "    \n",
    "    def setAge(self,age):\n",
    "        self.age=age\n",
    "        \n",
    "    def getAge(self):\n",
    "        return self.age\n",
    "        "
   ]
  },
  {
   "cell_type": "code",
   "execution_count": 3,
   "metadata": {},
   "outputs": [
    {
     "name": "stdout",
     "output_type": "stream",
     "text": [
      "shashank\n",
      "20\n"
     ]
    }
   ],
   "source": [
    "obj=SHUKLA()\n",
    "\n",
    "obj.setName(\"shashank\")\n",
    "obj.setAge(20)\n",
    "\n",
    "print(obj.getName())\n",
    "print(obj.getAge())\n"
   ]
  },
  {
   "cell_type": "code",
   "execution_count": null,
   "metadata": {},
   "outputs": [],
   "source": []
  }
 ],
 "metadata": {
  "kernelspec": {
   "display_name": "Python 3",
   "language": "python",
   "name": "python3"
  },
  "language_info": {
   "codemirror_mode": {
    "name": "ipython",
    "version": 3
   },
   "file_extension": ".py",
   "mimetype": "text/x-python",
   "name": "python",
   "nbconvert_exporter": "python",
   "pygments_lexer": "ipython3",
   "version": "3.10.6"
  },
  "orig_nbformat": 4
 },
 "nbformat": 4,
 "nbformat_minor": 2
}
