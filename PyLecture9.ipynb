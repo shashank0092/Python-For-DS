{
 "cells": [
  {
   "cell_type": "code",
   "execution_count": 3,
   "metadata": {},
   "outputs": [],
   "source": [
    "f=open('samle.txt',\"w\")\n",
    "f.write(\"shukla boi\")\n",
    "f.close()"
   ]
  },
  {
   "cell_type": "code",
   "execution_count": 5,
   "metadata": {},
   "outputs": [],
   "source": [
    "f=open(\"sampleshukl.txt\",\"w\")\n",
    "f.write(\"I AM SHUKL BOI\")\n",
    "f.write(\"\\n I AM A COOL BOI\")\n",
    "f.close()"
   ]
  },
  {
   "cell_type": "code",
   "execution_count": 6,
   "metadata": {},
   "outputs": [],
   "source": [
    "f=open(\"./samle.txt\",\"w\")\n",
    "f.write(\"salaman boi\")\n",
    "f.close()"
   ]
  },
  {
   "cell_type": "code",
   "execution_count": 7,
   "metadata": {},
   "outputs": [],
   "source": [
    "f=open(\"./samle.txt\",\"a\")\n",
    "f.write(\"\\n YOU ARE NOT SHUKLA BOI\")\n",
    "f.close()"
   ]
  },
  {
   "cell_type": "code",
   "execution_count": 8,
   "metadata": {},
   "outputs": [],
   "source": [
    "L=[\"I AM\\n\",\"SHUKLA BOI\\n\",\"DO YOU KNOW ME?\\n\"]\n",
    "f=open(\"./samle.txt\",\"w\")\n",
    "f.writelines(L)\n",
    "f.close()"
   ]
  },
  {
   "cell_type": "code",
   "execution_count": 9,
   "metadata": {},
   "outputs": [
    {
     "name": "stdout",
     "output_type": "stream",
     "text": [
      "I AM\n",
      "SHUKLA BOI\n",
      "DO YOU KNOW ME?\n",
      "\n"
     ]
    }
   ],
   "source": [
    "f=open(\"./samle.txt\",\"r\")\n",
    "s=f.read()\n",
    "f.close()\n",
    "print(s)"
   ]
  },
  {
   "cell_type": "code",
   "execution_count": 10,
   "metadata": {},
   "outputs": [
    {
     "name": "stdout",
     "output_type": "stream",
     "text": [
      "I AM\n",
      "\n"
     ]
    }
   ],
   "source": [
    "f=open(\"./samle.txt\",\"r\")\n",
    "s=f.readline()\n",
    "print(s)"
   ]
  },
  {
   "cell_type": "code",
   "execution_count": 11,
   "metadata": {},
   "outputs": [
    {
     "name": "stdout",
     "output_type": "stream",
     "text": [
      "I AM\n",
      "\n",
      "SHUKLA BOI\n",
      "\n",
      "DO YOU KNOW ME?\n",
      "\n"
     ]
    }
   ],
   "source": [
    "f=open(\"./samle.txt\")\n",
    "\n",
    "while True:\n",
    "    data=f.readline()\n",
    "    \n",
    "    if data==\"\":\n",
    "        break\n",
    "    else:\n",
    "        print(data)\n",
    "f.close()"
   ]
  },
  {
   "cell_type": "code",
   "execution_count": 12,
   "metadata": {},
   "outputs": [],
   "source": [
    "with open('./samle.txt',\"w\") as f:\n",
    "    f.write(\"selmon bhai\")"
   ]
  },
  {
   "cell_type": "code",
   "execution_count": 13,
   "metadata": {},
   "outputs": [
    {
     "name": "stdout",
     "output_type": "stream",
     "text": [
      "I AM SHUKL BOI\n",
      " I AM A COOL BOI\n"
     ]
    }
   ],
   "source": [
    "with open(\"./sampleshukl.txt\",\"r\") as f:\n",
    "    print(f.read())"
   ]
  },
  {
   "cell_type": "code",
   "execution_count": 14,
   "metadata": {},
   "outputs": [],
   "source": [
    "big_L=[\"HELLO WORLD\\n\" for i in range(1000)]\n",
    "\n",
    "with open(\"big.txt\",\"w\") as f:\n",
    "    f.writelines(big_L)"
   ]
  },
  {
   "cell_type": "code",
   "execution_count": 16,
   "metadata": {},
   "outputs": [
    {
     "name": "stdout",
     "output_type": "stream",
     "text": [
      "HELLO WORL\n",
      "10\n"
     ]
    },
    {
     "data": {
      "text/plain": [
       "'HELLO WORL'"
      ]
     },
     "execution_count": 16,
     "metadata": {},
     "output_type": "execute_result"
    }
   ],
   "source": [
    "f=open(\"big.txt\",\"r\")\n",
    "print(f.read(10))\n",
    "print(f.tell())\n",
    "f.seek(0)\n",
    "f.read(10)"
   ]
  },
  {
   "cell_type": "code",
   "execution_count": 17,
   "metadata": {},
   "outputs": [],
   "source": [
    "import json\n",
    "L=[1,2,3,4]\n",
    "\n",
    "with open('demo.json','w') as f:\n",
    "    json.dump(L,f)"
   ]
  },
  {
   "cell_type": "code",
   "execution_count": 21,
   "metadata": {},
   "outputs": [],
   "source": [
    "d={\n",
    "    \"name\":\"shukla boi\",\n",
    "    \"age\":20,\n",
    "    \"gender\":\"male\"\n",
    "}\n",
    "\n",
    "with open('demo.json',\"w\") as f:\n",
    "    json.dump(d,f,indent=4)"
   ]
  },
  {
   "cell_type": "code",
   "execution_count": 22,
   "metadata": {},
   "outputs": [
    {
     "name": "stdout",
     "output_type": "stream",
     "text": [
      "{'name': 'shukla boi', 'age': 20, 'gender': 'male'}\n"
     ]
    }
   ],
   "source": [
    "with open(\"demo.json\",\"r\") as f:\n",
    "    print(json.load(f))"
   ]
  },
  {
   "cell_type": "code",
   "execution_count": 25,
   "metadata": {},
   "outputs": [],
   "source": [
    "t=(10,20,30,40)\n",
    "\n",
    "with open(\"demo.json\",\"w\") as f:\n",
    "    json.dump(t,f)"
   ]
  },
  {
   "cell_type": "code",
   "execution_count": null,
   "metadata": {},
   "outputs": [],
   "source": []
  }
 ],
 "metadata": {
  "kernelspec": {
   "display_name": "Python 3",
   "language": "python",
   "name": "python3"
  },
  "language_info": {
   "codemirror_mode": {
    "name": "ipython",
    "version": 3
   },
   "file_extension": ".py",
   "mimetype": "text/x-python",
   "name": "python",
   "nbconvert_exporter": "python",
   "pygments_lexer": "ipython3",
   "version": "3.10.6"
  },
  "orig_nbformat": 4
 },
 "nbformat": 4,
 "nbformat_minor": 2
}
