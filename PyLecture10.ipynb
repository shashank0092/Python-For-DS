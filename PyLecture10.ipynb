{
 "cells": [
  {
   "cell_type": "code",
   "execution_count": 5,
   "metadata": {},
   "outputs": [
    {
     "name": "stdout",
     "output_type": "stream",
     "text": [
      "\n"
     ]
    }
   ],
   "source": [
    "try:\n",
    "    with open(\"samle.txt\",\"r\") as f:\n",
    "        print(f.read())\n",
    "except:\n",
    "    print(\"Sorry file not found\")"
   ]
  },
  {
   "cell_type": "code",
   "execution_count": 8,
   "metadata": {},
   "outputs": [
    {
     "name": "stdout",
     "output_type": "stream",
     "text": [
      "I AM A SHUKLA BOI\n"
     ]
    }
   ],
   "source": [
    "try:\n",
    "    f=open(\"samle.txt\",\"r\")\n",
    "    print(f.read())\n",
    "except:\n",
    "    print(\"Some Error Is Oocured\")"
   ]
  },
  {
   "cell_type": "code",
   "execution_count": 9,
   "metadata": {},
   "outputs": [
    {
     "name": "stdout",
     "output_type": "stream",
     "text": [
      "Code To Sahi hain\n"
     ]
    }
   ],
   "source": [
    "try:\n",
    "    a=10+5\n",
    "except:\n",
    "    print(\"I AM A BOI\")\n",
    "else:\n",
    "    print(\"Code To Sahi hain\")"
   ]
  },
  {
   "cell_type": "code",
   "execution_count": 11,
   "metadata": {},
   "outputs": [
    {
     "name": "stdout",
     "output_type": "stream",
     "text": [
      "YE TO RUN HONA HI THA\n"
     ]
    }
   ],
   "source": [
    "try:\n",
    "    a=10\n",
    "except:\n",
    "    print(\"YE TO ERROR HAIN\")\n",
    "finally:\n",
    "    print(\"YE TO RUN HONA HI THA\")"
   ]
  },
  {
   "cell_type": "code",
   "execution_count": null,
   "metadata": {},
   "outputs": [],
   "source": []
  }
 ],
 "metadata": {
  "kernelspec": {
   "display_name": "Python 3",
   "language": "python",
   "name": "python3"
  },
  "language_info": {
   "codemirror_mode": {
    "name": "ipython",
    "version": 3
   },
   "file_extension": ".py",
   "mimetype": "text/x-python",
   "name": "python",
   "nbconvert_exporter": "python",
   "pygments_lexer": "ipython3",
   "version": "3.10.6"
  },
  "orig_nbformat": 4
 },
 "nbformat": 4,
 "nbformat_minor": 2
}
